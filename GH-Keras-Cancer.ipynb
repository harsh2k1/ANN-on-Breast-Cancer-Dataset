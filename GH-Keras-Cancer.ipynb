{
 "cells": [
  {
   "cell_type": "code",
   "execution_count": 2,
   "metadata": {},
   "outputs": [],
   "source": [
    "from tensorflow import keras"
   ]
  },
  {
   "cell_type": "code",
   "execution_count": 3,
   "metadata": {},
   "outputs": [],
   "source": [
    "from tensorflow.keras.models import Sequential\n",
    "from tensorflow.keras.layers import Dense"
   ]
  },
  {
   "cell_type": "code",
   "execution_count": 4,
   "metadata": {},
   "outputs": [],
   "source": [
    "model = Sequential()"
   ]
  },
  {
   "cell_type": "code",
   "execution_count": 5,
   "metadata": {},
   "outputs": [],
   "source": [
    "model.add(Dense( units = 64 , activation = 'relu' , input_dim = 30))\n",
    "model.add(Dense( units = 32 , activation = 'relu'))\n",
    "model.add(Dense( units = 16 , activation = 'relu'))\n",
    "model.add(Dense( units = 1 , activation = 'sigmoid'))"
   ]
  },
  {
   "cell_type": "code",
   "execution_count": 6,
   "metadata": {},
   "outputs": [],
   "source": [
    "model.compile(optimizer= 'adam' , loss = 'binary_crossentropy' , metrics= ['accuracy'])"
   ]
  },
  {
   "cell_type": "code",
   "execution_count": 7,
   "metadata": {},
   "outputs": [],
   "source": [
    "from sklearn import datasets\n",
    "cancer = datasets.load_breast_cancer()\n",
    "from sklearn.model_selection import train_test_split\n",
    "\n",
    "x_train, x_test, y_train, y_test = train_test_split(cancer.data, cancer.target, test_size = 0.2, random_state = 0)\n",
    "\n",
    "from sklearn.preprocessing import StandardScaler\n",
    "\n",
    "sc = StandardScaler()\n",
    "x_train = sc.fit_transform(x_train)\n",
    "x_test = sc.transform(x_test)"
   ]
  },
  {
   "cell_type": "code",
   "execution_count": 12,
   "metadata": {},
   "outputs": [
    {
     "name": "stdout",
     "output_type": "stream",
     "text": [
      "(455, 30)\n",
      "(455,)\n"
     ]
    }
   ],
   "source": [
    "print(x_train.shape)\n",
    "print(y_train.shape)"
   ]
  },
  {
   "cell_type": "code",
   "execution_count": 9,
   "metadata": {},
   "outputs": [
    {
     "name": "stdout",
     "output_type": "stream",
     "text": [
      "Epoch 1/30\n",
      "10/10 [==============================] - 0s 7ms/step - loss: 0.0383 - accuracy: 0.9912 - val_loss: 0.0791 - val_accuracy: 0.9386\n",
      "Epoch 2/30\n",
      "10/10 [==============================] - 0s 4ms/step - loss: 0.0365 - accuracy: 0.9912 - val_loss: 0.0783 - val_accuracy: 0.9474\n",
      "Epoch 3/30\n",
      "10/10 [==============================] - 0s 4ms/step - loss: 0.0345 - accuracy: 0.9912 - val_loss: 0.0761 - val_accuracy: 0.9386\n",
      "Epoch 4/30\n",
      "10/10 [==============================] - 0s 4ms/step - loss: 0.0337 - accuracy: 0.9912 - val_loss: 0.0736 - val_accuracy: 0.9474\n",
      "Epoch 5/30\n",
      "10/10 [==============================] - 0s 5ms/step - loss: 0.0317 - accuracy: 0.9912 - val_loss: 0.0728 - val_accuracy: 0.9474\n",
      "Epoch 6/30\n",
      "10/10 [==============================] - 0s 4ms/step - loss: 0.0299 - accuracy: 0.9912 - val_loss: 0.0719 - val_accuracy: 0.9474\n",
      "Epoch 7/30\n",
      "10/10 [==============================] - 0s 4ms/step - loss: 0.0284 - accuracy: 0.9912 - val_loss: 0.0707 - val_accuracy: 0.9474\n",
      "Epoch 8/30\n",
      "10/10 [==============================] - 0s 4ms/step - loss: 0.0272 - accuracy: 0.9912 - val_loss: 0.0707 - val_accuracy: 0.9561\n",
      "Epoch 9/30\n",
      "10/10 [==============================] - 0s 4ms/step - loss: 0.0259 - accuracy: 0.9956 - val_loss: 0.0810 - val_accuracy: 0.9474\n",
      "Epoch 10/30\n",
      "10/10 [==============================] - 0s 4ms/step - loss: 0.0271 - accuracy: 0.9934 - val_loss: 0.0751 - val_accuracy: 0.9474\n",
      "Epoch 11/30\n",
      "10/10 [==============================] - 0s 4ms/step - loss: 0.0244 - accuracy: 0.9956 - val_loss: 0.0675 - val_accuracy: 0.9561\n",
      "Epoch 12/30\n",
      "10/10 [==============================] - 0s 4ms/step - loss: 0.0222 - accuracy: 0.9956 - val_loss: 0.0635 - val_accuracy: 0.9649\n",
      "Epoch 13/30\n",
      "10/10 [==============================] - 0s 4ms/step - loss: 0.0205 - accuracy: 0.9956 - val_loss: 0.0617 - val_accuracy: 0.9649\n",
      "Epoch 14/30\n",
      "10/10 [==============================] - 0s 4ms/step - loss: 0.0193 - accuracy: 0.9956 - val_loss: 0.0620 - val_accuracy: 0.9649\n",
      "Epoch 15/30\n",
      "10/10 [==============================] - 0s 4ms/step - loss: 0.0181 - accuracy: 0.9956 - val_loss: 0.0613 - val_accuracy: 0.9649\n",
      "Epoch 16/30\n",
      "10/10 [==============================] - 0s 4ms/step - loss: 0.0171 - accuracy: 0.9956 - val_loss: 0.0602 - val_accuracy: 0.9649\n",
      "Epoch 17/30\n",
      "10/10 [==============================] - 0s 4ms/step - loss: 0.0161 - accuracy: 0.9956 - val_loss: 0.0585 - val_accuracy: 0.9737\n",
      "Epoch 18/30\n",
      "10/10 [==============================] - 0s 4ms/step - loss: 0.0148 - accuracy: 0.9956 - val_loss: 0.0609 - val_accuracy: 0.9649\n",
      "Epoch 19/30\n",
      "10/10 [==============================] - 0s 4ms/step - loss: 0.0138 - accuracy: 0.9956 - val_loss: 0.0607 - val_accuracy: 0.9649\n",
      "Epoch 20/30\n",
      "10/10 [==============================] - 0s 4ms/step - loss: 0.0128 - accuracy: 0.9956 - val_loss: 0.0570 - val_accuracy: 0.9649\n",
      "Epoch 21/30\n",
      "10/10 [==============================] - 0s 5ms/step - loss: 0.0121 - accuracy: 0.9956 - val_loss: 0.0576 - val_accuracy: 0.9649\n",
      "Epoch 22/30\n",
      "10/10 [==============================] - 0s 5ms/step - loss: 0.0110 - accuracy: 0.9956 - val_loss: 0.0601 - val_accuracy: 0.9649\n",
      "Epoch 23/30\n",
      "10/10 [==============================] - 0s 5ms/step - loss: 0.0104 - accuracy: 0.9956 - val_loss: 0.0609 - val_accuracy: 0.9649\n",
      "Epoch 24/30\n",
      "10/10 [==============================] - 0s 5ms/step - loss: 0.0097 - accuracy: 0.9978 - val_loss: 0.0583 - val_accuracy: 0.9649\n",
      "Epoch 25/30\n",
      "10/10 [==============================] - 0s 4ms/step - loss: 0.0087 - accuracy: 0.9978 - val_loss: 0.0596 - val_accuracy: 0.9649\n",
      "Epoch 26/30\n",
      "10/10 [==============================] - 0s 4ms/step - loss: 0.0083 - accuracy: 0.9978 - val_loss: 0.0600 - val_accuracy: 0.9737\n",
      "Epoch 27/30\n",
      "10/10 [==============================] - 0s 5ms/step - loss: 0.0075 - accuracy: 0.9978 - val_loss: 0.0621 - val_accuracy: 0.9649\n",
      "Epoch 28/30\n",
      "10/10 [==============================] - 0s 5ms/step - loss: 0.0075 - accuracy: 0.9978 - val_loss: 0.0691 - val_accuracy: 0.9737\n",
      "Epoch 29/30\n",
      "10/10 [==============================] - 0s 4ms/step - loss: 0.0068 - accuracy: 1.0000 - val_loss: 0.0687 - val_accuracy: 0.9649\n",
      "Epoch 30/30\n",
      "10/10 [==============================] - 0s 6ms/step - loss: 0.0064 - accuracy: 1.0000 - val_loss: 0.0626 - val_accuracy: 0.9649\n"
     ]
    },
    {
     "data": {
      "text/plain": [
       "<tensorflow.python.keras.callbacks.History at 0x2e018ed3be0>"
      ]
     },
     "execution_count": 9,
     "metadata": {},
     "output_type": "execute_result"
    }
   ],
   "source": [
    "model.fit(x_train , y_train , epochs = 30 , batch_size = 50 , validation_data= (x_test , y_test))"
   ]
  },
  {
   "cell_type": "code",
   "execution_count": 10,
   "metadata": {},
   "outputs": [
    {
     "name": "stdout",
     "output_type": "stream",
     "text": [
      "4/4 [==============================] - 0s 2ms/step - loss: 0.0626 - accuracy: 0.9649\n"
     ]
    },
    {
     "data": {
      "text/plain": [
       "[0.06261544674634933, 0.9649122953414917]"
      ]
     },
     "execution_count": 10,
     "metadata": {},
     "output_type": "execute_result"
    }
   ],
   "source": [
    "score = model.evaluate(x_test, y_test)\n",
    "score"
   ]
  },
  {
   "cell_type": "code",
   "execution_count": 18,
   "metadata": {},
   "outputs": [
    {
     "data": {
      "text/plain": [
       "array([[1.5709297e-06],\n",
       "       [8.7338495e-01],\n",
       "       [9.9995941e-01],\n",
       "       [9.9712348e-01],\n",
       "       [9.9993008e-01],\n",
       "       [9.9998283e-01],\n",
       "       [9.9999964e-01],\n",
       "       [9.9998724e-01],\n",
       "       [9.9999964e-01],\n",
       "       [1.0000000e+00]], dtype=float32)"
      ]
     },
     "execution_count": 18,
     "metadata": {},
     "output_type": "execute_result"
    }
   ],
   "source": [
    "predictions = model.predict(x_test)\n",
    "predictions[:10]"
   ]
  },
  {
   "cell_type": "code",
   "execution_count": 20,
   "metadata": {},
   "outputs": [
    {
     "data": {
      "text/plain": [
       "(114, 1)"
      ]
     },
     "execution_count": 20,
     "metadata": {},
     "output_type": "execute_result"
    }
   ],
   "source": [
    "predictions.shape"
   ]
  },
  {
   "cell_type": "code",
   "execution_count": 12,
   "metadata": {},
   "outputs": [],
   "source": [
    "import pandas as pd"
   ]
  },
  {
   "cell_type": "code",
   "execution_count": 21,
   "metadata": {},
   "outputs": [],
   "source": [
    "# #predictions = predictions.reshape(-1,1)\n",
    "# ans = pd.Series(predictions)\n",
    "# ans"
   ]
  },
  {
   "cell_type": "code",
   "execution_count": 22,
   "metadata": {},
   "outputs": [],
   "source": [
    "sol = []\n",
    "def encoding(x):\n",
    "    n = len(x)\n",
    "    for i in range(n):\n",
    "        if x[i] > 0.5 :\n",
    "            sol.append(1)\n",
    "        else:\n",
    "            sol.append(0)"
   ]
  },
  {
   "cell_type": "code",
   "execution_count": 24,
   "metadata": {},
   "outputs": [],
   "source": [
    "encoding(predictions)"
   ]
  },
  {
   "cell_type": "code",
   "execution_count": 26,
   "metadata": {},
   "outputs": [
    {
     "data": {
      "text/plain": [
       "[0, 1, 1, 1, 1]"
      ]
     },
     "execution_count": 26,
     "metadata": {},
     "output_type": "execute_result"
    }
   ],
   "source": [
    "sol[:5]"
   ]
  },
  {
   "cell_type": "code",
   "execution_count": 31,
   "metadata": {},
   "outputs": [],
   "source": [
    "from sklearn.metrics import confusion_matrix , accuracy_score"
   ]
  },
  {
   "cell_type": "code",
   "execution_count": 30,
   "metadata": {},
   "outputs": [
    {
     "data": {
      "text/plain": [
       "array([[47,  0],\n",
       "       [ 4, 63]], dtype=int64)"
      ]
     },
     "execution_count": 30,
     "metadata": {},
     "output_type": "execute_result"
    }
   ],
   "source": [
    "confusion_matrix(y_test , sol)"
   ]
  },
  {
   "cell_type": "code",
   "execution_count": 32,
   "metadata": {},
   "outputs": [
    {
     "data": {
      "text/plain": [
       "0.9649122807017544"
      ]
     },
     "execution_count": 32,
     "metadata": {},
     "output_type": "execute_result"
    }
   ],
   "source": [
    "accuracy_score(y_test , sol)"
   ]
  },
  {
   "cell_type": "code",
   "execution_count": 43,
   "metadata": {},
   "outputs": [],
   "source": [
    "import seaborn as sns\n",
    "import matplotlib.pyplot as plt"
   ]
  },
  {
   "cell_type": "code",
   "execution_count": 49,
   "metadata": {},
   "outputs": [
    {
     "data": {
      "text/plain": [
       "Text(0.5, 1.0, 'Predicted')"
      ]
     },
     "execution_count": 49,
     "metadata": {},
     "output_type": "execute_result"
    },
    {
     "data": {
      "image/png": "[encoded data removed]",
      "text/plain": [
       "<Figure size 720x360 with 2 Axes>"
      ]
     },
     "metadata": {
      "needs_background": "light"
     },
     "output_type": "display_data"
    }
   ],
   "source": [
    "plt.figure(figsize = (10,5))\n",
    "plt.subplot(1,2,1)\n",
    "sns.countplot(y_test)\n",
    "plt.title('Actual')\n",
    "plt.subplot(1,2,2)\n",
    "sns.countplot(sol)\n",
    "plt.title('Predicted')"
   ]
  },
  {
   "cell_type": "code",
   "execution_count": null,
   "metadata": {},
   "outputs": [],
   "source": []
  }
 ],
 "metadata": {
  "kernelspec": {
   "display_name": "Python 3",
   "language": "python",
   "name": "python3"
  },
  "language_info": {
   "codemirror_mode": {
    "name": "ipython",
    "version": 3
   },
   "file_extension": ".py",
   "mimetype": "text/x-python",
   "name": "python",
   "nbconvert_exporter": "python",
   "pygments_lexer": "ipython3",
   "version": "3.8.3"
  }
 },
 "nbformat": 4,
 "nbformat_minor": 4
}
